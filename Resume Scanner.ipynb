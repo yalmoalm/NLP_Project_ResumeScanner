{
 "cells": [
  {
   "metadata": {},
   "cell_type": "markdown",
   "source": "The libraries needed to implement the code",
   "id": "38fa754c87181863"
  },
  {
   "metadata": {},
   "cell_type": "code",
   "outputs": [
    {
     "name": "stdout",
     "output_type": "stream",
     "text": [
      "Collecting scikit-learn\n",
      "  Using cached scikit_learn-1.5.0-cp39-cp39-win_amd64.whl (11.0 MB)\n",
      "Requirement already satisfied: threadpoolctl>=3.1.0 in c:\\users\\home\\appdata\\local\\programs\\python\\python39\\lib\\site-packages (from scikit-learn) (3.5.0)\n",
      "Requirement already satisfied: scipy>=1.6.0 in c:\\users\\home\\appdata\\local\\programs\\python\\python39\\lib\\site-packages (from scikit-learn) (1.13.1)\n",
      "Requirement already satisfied: numpy>=1.19.5 in c:\\users\\home\\appdata\\local\\programs\\python\\python39\\lib\\site-packages (from scikit-learn) (2.0.0)\n",
      "Requirement already satisfied: joblib>=1.2.0 in c:\\users\\home\\appdata\\local\\programs\\python\\python39\\lib\\site-packages (from scikit-learn) (1.4.2)\n",
      "Installing collected packages: scikit-learn\n",
      "Successfully installed scikit-learn-1.5.0\n"
     ]
    },
    {
     "name": "stderr",
     "output_type": "stream",
     "text": [
      "WARNING: You are using pip version 22.0.4; however, version 24.0 is available.\n",
      "You should consider upgrading via the 'C:\\Users\\Home\\AppData\\Local\\Programs\\Python\\Python39\\python.exe -m pip install --upgrade pip' command.\n"
     ]
    }
   ],
   "execution_count": 12,
   "source": [
    "!pip install -U scikit-learn\n",
    "!pip install docx2txt\n"
   ],
   "id": "initial_id"
  },
  {
   "metadata": {
    "ExecuteTime": {
     "end_time": "2024-06-20T07:02:17.700489Z",
     "start_time": "2024-06-20T07:02:17.645523Z"
    }
   },
   "cell_type": "code",
   "source": "import docx2txt",
   "id": "3878000ac59e43ac",
   "outputs": [],
   "execution_count": 5
  },
  {
   "metadata": {},
   "cell_type": "markdown",
   "source": "Adjusting the paht of the job requirements file and the resume file",
   "id": "38e6138d66d1ae89"
  },
  {
   "cell_type": "code",
   "source": [
    "job_descrption = docx2txt.process( r'C:\\Users\\Home\\PycharmProjects\\Resume Scanner\\Job Requirements.docx')\n",
    "\n",
    "resume_1 = docx2txt.process( r'C:\\Users\\Home\\PycharmProjects\\Resume Scanner\\Resume 1 (Closer Match).docx')\n",
    "\n",
    "resume_2 = docx2txt.process( r'C:\\Users\\Home\\PycharmProjects\\Resume Scanner\\Resume 2 (Less Matching).docx')"
   ],
   "metadata": {
    "collapsed": false,
    "is_executing": true,
    "ExecuteTime": {
     "end_time": "2024-06-20T07:03:56.738560Z",
     "start_time": "2024-06-20T07:03:56.677600Z"
    }
   },
   "id": "1ecd1dc30537b880",
   "outputs": [],
   "execution_count": 8
  },
  {
   "metadata": {
    "ExecuteTime": {
     "end_time": "2024-06-20T08:41:44.092675Z",
     "start_time": "2024-06-20T08:41:44.057696Z"
    }
   },
   "cell_type": "code",
   "source": [
    "print(type(resume_2))\n",
    "print(resume_2)"
   ],
   "id": "4c40bc7b5ded3f1c",
   "outputs": [
    {
     "name": "stdout",
     "output_type": "stream",
     "text": [
      "<class 'str'>\n"
     ]
    }
   ],
   "execution_count": 13
  },
  {
   "metadata": {},
   "cell_type": "markdown",
   "source": [
    "The inclusion of the two strings in a list with two indexes.\n",
    "Index 1 = job requirements.\n",
    "Index 2 = the resume."
   ],
   "id": "f0b2d288454a3ad6"
  },
  {
   "metadata": {
    "ExecuteTime": {
     "end_time": "2024-06-20T07:04:02.725622Z",
     "start_time": "2024-06-20T07:04:02.707633Z"
    }
   },
   "cell_type": "code",
   "source": [
    "content_1 = [job_descrption, resume_1]\n",
    "content_2 = [job_descrption, resume_2]"
   ],
   "id": "6838e433cfc5cda8",
   "outputs": [],
   "execution_count": 10
  },
  {
   "metadata": {},
   "cell_type": "markdown",
   "source": [
    "Creating an object of CountVectorizer.\n",
    "And applying the object to the list that contains the two strings of the job requirements and the resume.\n",
    "At the end of the processing we have a matrix of all the times the words appear."
   ],
   "id": "3045b0e806301ea9"
  },
  {
   "metadata": {
    "ExecuteTime": {
     "end_time": "2024-06-20T07:04:05.005215Z",
     "start_time": "2024-06-20T07:04:04.784352Z"
    }
   },
   "cell_type": "code",
   "source": [
    "from sklearn.feature_extraction.text import CountVectorizer\n",
    "cv = CountVectorizer()\n",
    "matrix_1 = cv.fit_transform(content_1)\n",
    "matrix_2 = cv.fit_transform(content_2)"
   ],
   "id": "b66308ba2762003e",
   "outputs": [
    {
     "ename": "ModuleNotFoundError",
     "evalue": "No module named 'sklearn'",
     "output_type": "error",
     "traceback": [
      "\u001B[1;31m---------------------------------------------------------------------------\u001B[0m",
      "\u001B[1;31mModuleNotFoundError\u001B[0m                       Traceback (most recent call last)",
      "Cell \u001B[1;32mIn[11], line 1\u001B[0m\n\u001B[1;32m----> 1\u001B[0m \u001B[38;5;28;01mfrom\u001B[39;00m \u001B[38;5;21;01msklearn\u001B[39;00m\u001B[38;5;21;01m.\u001B[39;00m\u001B[38;5;21;01mfeature_extraction\u001B[39;00m\u001B[38;5;21;01m.\u001B[39;00m\u001B[38;5;21;01mtext\u001B[39;00m \u001B[38;5;28;01mimport\u001B[39;00m CountVectorizer\n\u001B[0;32m      2\u001B[0m cv \u001B[38;5;241m=\u001B[39m CountVectorizer()\n\u001B[0;32m      3\u001B[0m matrix_1 \u001B[38;5;241m=\u001B[39m cv\u001B[38;5;241m.\u001B[39mfit_transform(content_1)\n",
      "\u001B[1;31mModuleNotFoundError\u001B[0m: No module named 'sklearn'"
     ]
    }
   ],
   "execution_count": 11
  },
  {
   "metadata": {},
   "cell_type": "markdown",
   "source": "Calculation of the cosine similarity on the matrices of the CountVectorize.",
   "id": "f70deef7abab6180"
  },
  {
   "metadata": {
    "ExecuteTime": {
     "start_time": "2024-06-20T07:01:08.951854Z"
    }
   },
   "cell_type": "code",
   "source": [
    "from sklearn.metrics.pairwise import cosine_similarity\n",
    "similarity_matrix_1 = cosine_similarity(matrix_1)\n",
    "similarity_matrix_2 = cosine_similarity(matrix_2)\n",
    "print(similarity_matrix_1, similarity_matrix_2)"
   ],
   "id": "4ef926093aa8e7c6",
   "outputs": [],
   "execution_count": null
  },
  {
   "metadata": {},
   "cell_type": "markdown",
   "source": "Printing the results of the match between the job requirements and the resume in percentages.",
   "id": "d929cb655bf18813"
  },
  {
   "metadata": {
    "ExecuteTime": {
     "end_time": "2024-06-20T07:01:09.045796Z",
     "start_time": "2024-06-20T07:01:08.959848Z"
    }
   },
   "cell_type": "code",
   "source": [
    "print('Resume matches by '+ str(similarity_matrix_1[1][0]*100)+ '%')\n",
    "print('Resume matches by '+ str(similarity_matrix_2[1][0]*100)+ '%')"
   ],
   "id": "74c2c78efbb42e68",
   "outputs": [],
   "execution_count": null
  },
  {
   "metadata": {},
   "cell_type": "code",
   "source": "",
   "id": "eaa20d3c21dc1650",
   "outputs": [],
   "execution_count": null
  }
 ],
 "metadata": {
  "kernelspec": {
   "display_name": "Python 3",
   "language": "python",
   "name": "python3"
  },
  "language_info": {
   "codemirror_mode": {
    "name": "ipython",
    "version": 2
   },
   "file_extension": ".py",
   "mimetype": "text/x-python",
   "name": "python",
   "nbconvert_exporter": "python",
   "pygments_lexer": "ipython2",
   "version": "2.7.6"
  }
 },
 "nbformat": 4,
 "nbformat_minor": 5
}
